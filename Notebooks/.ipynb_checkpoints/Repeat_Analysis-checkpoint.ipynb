{
 "cells": [
  {
   "cell_type": "markdown",
   "metadata": {},
   "source": [
    "# Repeat Analysis\n",
    "Analyzing the output from `RepeatMasker` to build [repeat landscape plots](http://repeatmasker.org/genomicDatasets/RMGenomicDatasets.html)."
   ]
  },
  {
   "cell_type": "markdown",
   "metadata": {},
   "source": [
    "## Load packages and define functions"
   ]
  },
  {
   "cell_type": "code",
   "execution_count": 3,
   "metadata": {
    "collapsed": true
   },
   "outputs": [],
   "source": [
    "# Core\n",
    "import re, os, glob\n",
    "import pandas as pd\n",
    "from pandas.compat import StringIO\n",
    "from scipy import stats\n",
    "import numpy as np\n",
    "import csv\n",
    "# Plotting\n",
    "%matplotlib inline\n",
    "import matplotlib.pyplot as plt\n",
    "import matplotlib.patches as mpatches"
   ]
  },
  {
   "cell_type": "markdown",
   "metadata": {},
   "source": [
    "## Load data"
   ]
  },
  {
   "cell_type": "code",
   "execution_count": 14,
   "metadata": {},
   "outputs": [
    {
     "data": {
      "text/html": [
       "<div>\n",
       "<style scoped>\n",
       "    .dataframe tbody tr th:only-of-type {\n",
       "        vertical-align: middle;\n",
       "    }\n",
       "\n",
       "    .dataframe tbody tr th {\n",
       "        vertical-align: top;\n",
       "    }\n",
       "\n",
       "    .dataframe thead th {\n",
       "        text-align: right;\n",
       "    }\n",
       "</style>\n",
       "<table border=\"1\" class=\"dataframe\">\n",
       "  <thead>\n",
       "    <tr style=\"text-align: right;\">\n",
       "      <th></th>\n",
       "      <th>#Rname</th>\n",
       "      <th>Rclass</th>\n",
       "      <th>Rfam</th>\n",
       "      <th>Rlen</th>\n",
       "      <th>FRG_NB_all</th>\n",
       "      <th>FRG_NB_Reconstructed_repeats</th>\n",
       "      <th>LEN_MASKED_NR</th>\n",
       "      <th>AVG_%DIV</th>\n",
       "      <th>MED_%DIV</th>\n",
       "      <th>AVG_%DEL</th>\n",
       "      <th>MED_%DEL</th>\n",
       "      <th>AVG_%INS</th>\n",
       "      <th>MED_%INS</th>\n",
       "      <th>AVG_LEN_MASKED</th>\n",
       "      <th>%_GENOME</th>\n",
       "    </tr>\n",
       "  </thead>\n",
       "  <tbody>\n",
       "    <tr>\n",
       "      <th>0</th>\n",
       "      <td>rnd-1_family-825</td>\n",
       "      <td>LINE</td>\n",
       "      <td>LINE</td>\n",
       "      <td>nd</td>\n",
       "      <td>64</td>\n",
       "      <td>64</td>\n",
       "      <td>7399</td>\n",
       "      <td>15.386663</td>\n",
       "      <td>nd</td>\n",
       "      <td>2.301420</td>\n",
       "      <td>nd</td>\n",
       "      <td>3.797508</td>\n",
       "      <td>nd</td>\n",
       "      <td>0.000041</td>\n",
       "      <td>nd</td>\n",
       "    </tr>\n",
       "    <tr>\n",
       "      <th>1</th>\n",
       "      <td>rnd-5_family-1603</td>\n",
       "      <td>Unknown</td>\n",
       "      <td>Unknown</td>\n",
       "      <td>nd</td>\n",
       "      <td>318</td>\n",
       "      <td>318</td>\n",
       "      <td>31830</td>\n",
       "      <td>14.911492</td>\n",
       "      <td>nd</td>\n",
       "      <td>3.234444</td>\n",
       "      <td>nd</td>\n",
       "      <td>5.549991</td>\n",
       "      <td>nd</td>\n",
       "      <td>0.000178</td>\n",
       "      <td>nd</td>\n",
       "    </tr>\n",
       "    <tr>\n",
       "      <th>2</th>\n",
       "      <td>rnd-5_family-5794</td>\n",
       "      <td>Unknown</td>\n",
       "      <td>Unknown</td>\n",
       "      <td>nd</td>\n",
       "      <td>166</td>\n",
       "      <td>166</td>\n",
       "      <td>19233</td>\n",
       "      <td>19.352433</td>\n",
       "      <td>nd</td>\n",
       "      <td>1.687928</td>\n",
       "      <td>nd</td>\n",
       "      <td>1.456824</td>\n",
       "      <td>nd</td>\n",
       "      <td>0.000107</td>\n",
       "      <td>nd</td>\n",
       "    </tr>\n",
       "    <tr>\n",
       "      <th>3</th>\n",
       "      <td>rnd-4_family-69</td>\n",
       "      <td>DNA</td>\n",
       "      <td>DNA</td>\n",
       "      <td>nd</td>\n",
       "      <td>786</td>\n",
       "      <td>786</td>\n",
       "      <td>168898</td>\n",
       "      <td>21.116566</td>\n",
       "      <td>nd</td>\n",
       "      <td>4.882796</td>\n",
       "      <td>nd</td>\n",
       "      <td>7.664411</td>\n",
       "      <td>nd</td>\n",
       "      <td>0.000943</td>\n",
       "      <td>nd</td>\n",
       "    </tr>\n",
       "    <tr>\n",
       "      <th>4</th>\n",
       "      <td>rnd-5_family-759</td>\n",
       "      <td>DNA</td>\n",
       "      <td>DNA</td>\n",
       "      <td>nd</td>\n",
       "      <td>115</td>\n",
       "      <td>115</td>\n",
       "      <td>14422</td>\n",
       "      <td>15.902172</td>\n",
       "      <td>nd</td>\n",
       "      <td>3.031733</td>\n",
       "      <td>nd</td>\n",
       "      <td>3.280182</td>\n",
       "      <td>nd</td>\n",
       "      <td>0.000081</td>\n",
       "      <td>nd</td>\n",
       "    </tr>\n",
       "  </tbody>\n",
       "</table>\n",
       "</div>"
      ],
      "text/plain": [
       "              #Rname   Rclass     Rfam Rlen  FRG_NB_all  \\\n",
       "0   rnd-1_family-825     LINE     LINE   nd          64   \n",
       "1  rnd-5_family-1603  Unknown  Unknown   nd         318   \n",
       "2  rnd-5_family-5794  Unknown  Unknown   nd         166   \n",
       "3    rnd-4_family-69      DNA      DNA   nd         786   \n",
       "4   rnd-5_family-759      DNA      DNA   nd         115   \n",
       "\n",
       "   FRG_NB_Reconstructed_repeats  LEN_MASKED_NR   AVG_%DIV MED_%DIV  AVG_%DEL  \\\n",
       "0                            64           7399  15.386663       nd  2.301420   \n",
       "1                           318          31830  14.911492       nd  3.234444   \n",
       "2                           166          19233  19.352433       nd  1.687928   \n",
       "3                           786         168898  21.116566       nd  4.882796   \n",
       "4                           115          14422  15.902172       nd  3.031733   \n",
       "\n",
       "  MED_%DEL  AVG_%INS MED_%INS  AVG_LEN_MASKED %_GENOME  \n",
       "0       nd  3.797508       nd        0.000041       nd  \n",
       "1       nd  5.549991       nd        0.000178       nd  \n",
       "2       nd  1.456824       nd        0.000107       nd  \n",
       "3       nd  7.664411       nd        0.000943       nd  \n",
       "4       nd  3.280182       nd        0.000081       nd  "
      ]
     },
     "execution_count": 14,
     "metadata": {},
     "output_type": "execute_result"
    }
   ],
   "source": [
    "datadir = \"../Data/RepeatMasker/P_amilis/\"\n",
    "allreps = pd.read_csv(glob.glob(datadir+\"/*.all-repeats.tab\")[0], sep=\"\\t\")\n",
    "allreps.head()"
   ]
  },
  {
   "cell_type": "code",
   "execution_count": null,
   "metadata": {
    "collapsed": true
   },
   "outputs": [],
   "source": []
  }
 ],
 "metadata": {
  "kernelspec": {
   "display_name": "Python 2",
   "language": "python",
   "name": "python2"
  },
  "language_info": {
   "codemirror_mode": {
    "name": "ipython",
    "version": 2
   },
   "file_extension": ".py",
   "mimetype": "text/x-python",
   "name": "python",
   "nbconvert_exporter": "python",
   "pygments_lexer": "ipython2",
   "version": "2.7.15"
  }
 },
 "nbformat": 4,
 "nbformat_minor": 2
}
